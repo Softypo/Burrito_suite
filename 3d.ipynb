{
 "cells": [
  {
   "cell_type": "markdown",
   "source": [
    "# Create image log mesh using Open3D Poisson Surface Reconstruction Algorithm"
   ],
   "metadata": {}
  },
  {
   "cell_type": "code",
   "execution_count": null,
   "source": [
    "import open3d as o3d\r\n",
    "import numpy as np\r\n",
    "import matplotlib.pyplot as plt"
   ],
   "outputs": [],
   "metadata": {}
  },
  {
   "cell_type": "markdown",
   "source": [
    "## Load wellbore image data"
   ],
   "metadata": {}
  },
  {
   "cell_type": "code",
   "execution_count": null,
   "source": [
    "fmi_raster = np.array([i for i in np.load('fmi_raster.npy')[3500000:-1,:]])\r\n",
    "fmi_xyz = np.array([i for i in np.load('fmi_xyz.npy')[3500000:-1,:]])\r\n",
    "fmi_xyz_n = np.array([i for i in np.load('fmi_xyz_n.npy')[3500000:-1,:]])"
   ],
   "outputs": [],
   "metadata": {}
  },
  {
   "cell_type": "markdown",
   "source": [
    "## Preprocessing by creating point cloud data from the wellbore image arrays"
   ],
   "metadata": {}
  },
  {
   "cell_type": "code",
   "execution_count": null,
   "source": [
    "# Pass xyz, RBG and normals to Open3D.o3d.geometry.PointCloud and visualize\r\n",
    "pcd = o3d.geometry.PointCloud()\r\n",
    "pcd.points = o3d.utility.Vector3dVector(fmi_xyz)\r\n",
    "pcd.colors = o3d.utility.Vector3dVector(fmi_raster[:,:3])\r\n",
    "pcd.normals = o3d.utility.Vector3dVector(fmi_xyz_n)\r\n",
    "o3d.visualization.draw_geometries([pcd], point_show_normal=True)"
   ],
   "outputs": [],
   "metadata": {}
  },
  {
   "cell_type": "markdown",
   "source": [
    "## Poisson surface reconstruction"
   ],
   "metadata": {}
  },
  {
   "cell_type": "code",
   "execution_count": null,
   "source": [
    "# runing Poisson surface reconstruction\r\n",
    "mesh, densities = o3d.geometry.TriangleMesh.create_from_point_cloud_poisson(pcd, depth=10)\r\n",
    "o3d.visualization.draw_geometries([mesh], mesh_show_back_face=True)"
   ],
   "outputs": [],
   "metadata": {}
  },
  {
   "cell_type": "code",
   "execution_count": null,
   "source": [
    "#  visualize mesh vertrex densities\r\n",
    "densities = np.asarray(densities)\r\n",
    "density_colors = plt.get_cmap('plasma')((densities - densities.min()) / (densities.max() - densities.min()))\r\n",
    "density_colors = density_colors[:, :3]\r\n",
    "density_mesh = o3d.geometry.TriangleMesh()\r\n",
    "density_mesh.vertices = mesh.vertices\r\n",
    "density_mesh.triangles = mesh.triangles\r\n",
    "density_mesh.triangle_normals = mesh.triangle_normals\r\n",
    "density_mesh.vertex_colors = o3d.utility.Vector3dVector(density_colors)\r\n",
    "o3d.visualization.draw_geometries([density_mesh], mesh_show_back_face=True)"
   ],
   "outputs": [],
   "metadata": {}
  },
  {
   "cell_type": "code",
   "execution_count": null,
   "source": [
    "# removing low density vertices\r\n",
    "vertices_to_remove = densities < np.quantile(densities, 0.1)\r\n",
    "mesh.remove_vertices_by_mask(vertices_to_remove)\r\n",
    "o3d.visualization.draw_geometries([mesh], mesh_show_back_face=True)\r\n",
    "o3d.io.write_triangle_mesh(\"mesh.ply\", mesh)"
   ],
   "outputs": [],
   "metadata": {}
  }
 ],
 "metadata": {
  "orig_nbformat": 4,
  "language_info": {
   "name": "python",
   "version": "3.9.7",
   "mimetype": "text/x-python",
   "codemirror_mode": {
    "name": "ipython",
    "version": 3
   },
   "pygments_lexer": "ipython3",
   "nbconvert_exporter": "python",
   "file_extension": ".py"
  },
  "kernelspec": {
   "name": "python3",
   "display_name": "Python 3.9.7 64-bit ('.BS_venv': venv)"
  },
  "interpreter": {
   "hash": "5db251189d118ec7861d5db4ab25551fc9b06f26f77c5f0919db4b7ee415ad12"
  }
 },
 "nbformat": 4,
 "nbformat_minor": 2
}